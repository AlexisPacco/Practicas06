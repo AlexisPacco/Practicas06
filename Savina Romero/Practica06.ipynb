{
 "cells": [
  {
   "cell_type": "code",
   "execution_count": 1,
   "id": "3351957a-1f02-4337-839e-2bfe16e26211",
   "metadata": {},
   "outputs": [
    {
     "name": "stdout",
     "output_type": "stream",
     "text": [
      "\u001b[H\u001b[2J****************** Menu General ******************\n",
      "\n",
      "\n",
      "\n",
      "Selecciona una opcion\n",
      "\t1 - Primera opcion\n",
      "\t2 - Segunda opcion\n",
      "\t3 - Tercera opcion\n",
      "\t9 - salir\n"
     ]
    },
    {
     "name": "stdin",
     "output_type": "stream",
     "text": [
      "Inserta un numero valor >>  fsbkfbj\n"
     ]
    },
    {
     "name": "stdout",
     "output_type": "stream",
     "text": [
      "\n"
     ]
    },
    {
     "name": "stdin",
     "output_type": "stream",
     "text": [
      "No has pulsado ninguna opcion correcta...\n",
      "pulsa una tecla para continuar 152\n"
     ]
    },
    {
     "name": "stdout",
     "output_type": "stream",
     "text": [
      "****************** Menu General ******************\n",
      "\n",
      "\n",
      "\n",
      "Selecciona una opcion\n",
      "\t1 - Primera opcion\n",
      "\t2 - Segunda opcion\n",
      "\t3 - Tercera opcion\n",
      "\t9 - salir\n",
      "\u001b[H\u001b[2J"
     ]
    },
    {
     "name": "stdin",
     "output_type": "stream",
     "text": [
      "Inserta un numero valor >>  3473\n"
     ]
    },
    {
     "name": "stdout",
     "output_type": "stream",
     "text": [
      "\n"
     ]
    },
    {
     "name": "stdin",
     "output_type": "stream",
     "text": [
      "No has pulsado ninguna opcion correcta...\n",
      "pulsa una tecla para continuar fzfvhsdf\n"
     ]
    },
    {
     "name": "stdout",
     "output_type": "stream",
     "text": [
      "\u001b[H\u001b[2J****************** Menu General ******************\n",
      "\n",
      "\n",
      "\n",
      "Selecciona una opcion\n",
      "\t1 - Primera opcion\n",
      "\t2 - Segunda opcion\n",
      "\t3 - Tercera opcion\n",
      "\t9 - salir\n"
     ]
    },
    {
     "name": "stdin",
     "output_type": "stream",
     "text": [
      "Inserta un numero valor >>  9\n"
     ]
    },
    {
     "name": "stdout",
     "output_type": "stream",
     "text": [
      "\tFINALIZO EL PROGRAMA!!!!!\n"
     ]
    }
   ],
   "source": [
    "import os\n",
    "\n",
    "\n",
    "def menu():\n",
    "    \"\"\"\n",
    "    Funcion que limpia la pantalla y muestra nuevamente el menu\n",
    "    \"\"\"\n",
    "    os.system('clear') \n",
    "    titulo = (\" Menu General \")\n",
    "    print (titulo.center(50,'*'))\n",
    "    print ('\\n\\n')\n",
    "    print (\"Selecciona una opcion\")\n",
    "    print (\"\\t1 - Primera opcion\")\n",
    "    print (\"\\t2 - Segunda opcion\")\n",
    "    print (\"\\t3 - Tercera opcion\")\n",
    "    print (\"\\t9 - salir\")\n",
    "    \n",
    "def validar():\n",
    "    while True:\n",
    "         menu()\n",
    "         \n",
    "         opcionMenu = input(\"Inserta un numero valor >> \")\n",
    "         \n",
    "         if opcionMenu==\"1\":\n",
    "             print(\"\")\n",
    "             input(\"Has pulsado la opcion 1...\\npulsa una tecla para continuar\")\n",
    "         elif opcionMenu==\"2\":\n",
    "             print(\"\")\n",
    "             input(\"Has pulsado la opcion 2...\\npulsa una tecla para continuar\")\n",
    "         elif opcionMenu==\"3\": \n",
    "             print(\"\")\n",
    "             input(\"Has pulsado la opcion 3...\\npulsa una tecla para continuar\")\n",
    "         elif opcionMenu==\"9\":\n",
    "             break\n",
    "         else:\n",
    "             print(\"\")\n",
    "             input(\"No has pulsado ninguna opcion correcta...\\npulsa una tecla para continuar\")\n",
    "    return opcionMenu\n",
    "\n",
    "if __name__ == '__main__':\n",
    "    validar()\n",
    "    \n",
    "    print('\\tFINALIZO EL PROGRAMA!!!!!')"
   ]
  }
 ],
 "metadata": {
  "kernelspec": {
   "display_name": "Python 3 (ipykernel)",
   "language": "python",
   "name": "python3"
  },
  "language_info": {
   "codemirror_mode": {
    "name": "ipython",
    "version": 3
   },
   "file_extension": ".py",
   "mimetype": "text/x-python",
   "name": "python",
   "nbconvert_exporter": "python",
   "pygments_lexer": "ipython3",
   "version": "3.12.4"
  }
 },
 "nbformat": 4,
 "nbformat_minor": 5
}
