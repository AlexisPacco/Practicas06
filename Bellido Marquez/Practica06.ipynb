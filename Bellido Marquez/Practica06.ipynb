{
 "cells": [
  {
   "cell_type": "code",
   "execution_count": 1,
   "id": "d328c39c-f7d9-4c2a-becd-752ea2c943de",
   "metadata": {},
   "outputs": [
    {
     "name": "stdout",
     "output_type": "stream",
     "text": [
      "\u001b[H\u001b[2J****************** Menu general ******************\n",
      "n\n",
      "\n",
      "\n",
      "Selecciona una opcion\n",
      "\t1 - Primera Opcion\n",
      "\t2 - Segunda Opcion\n",
      "\t3 - Tercera Opcion\n",
      "\t9 - salir\n"
     ]
    },
    {
     "name": "stdin",
     "output_type": "stream",
     "text": [
      "insterta un numero valor >> 9\n"
     ]
    },
    {
     "name": "stdout",
     "output_type": "stream",
     "text": [
      "\tFINALIZO EL PROGRAMA!!!!!\n"
     ]
    }
   ],
   "source": [
    "import os\n",
    "def menu ():\n",
    "    \"\"\"\n",
    "    Funcion que limpia la pantalla y muestra nuevmente el menu\n",
    "    \"\"\"\n",
    "    os.system('clear') \n",
    "    titulo = (\" Menu general \")\n",
    "    print (titulo.center(50,'*'))\n",
    "    print ('n\\n\\n')\n",
    "    print (\"Selecciona una opcion\")\n",
    "    print (\"\\t1 - Primera Opcion\")\n",
    "    print (\"\\t2 - Segunda Opcion\")\n",
    "    print (\"\\t3 - Tercera Opcion\")\n",
    "    print (\"\\t9 - salir\")\n",
    "    \n",
    "def validar ():\n",
    "    while True:\n",
    "        menu()\n",
    "        opcionMenu=input(\"insterta un numero valor >>\")\n",
    "        if opcionMenu==\"1\":\n",
    "            print(\"\")\n",
    "            input(\"Has pulsado la opcion 1...\\npulsa una tecla para continuar\")\n",
    "        elif opcionMenu==\"2\":\n",
    "            print(\"\")\n",
    "            input(\"Has pulsado la opcion 2...\\npulsa una tecla para continuar\")\n",
    "        elif opcionMenu==\"3\":\n",
    "            print(\"\")\n",
    "            input(\"Has pulsado la opcion 3...\\npulsa una tecla para continuar\")\n",
    "        elif opcionMenu==\"9\":\n",
    "            break\n",
    "        else:\n",
    "            print(\"\")\n",
    "            input(\"No has pulsado ninguna opcion correcta...\\npulsa un tecla para continuar\")\n",
    "    return opcionMenu\n",
    "if __name__== '__main__':\n",
    "    validar()\n",
    "    print('\\tFINALIZO EL PROGRAMA!!!!!')"
   ]
  },
  {
   "cell_type": "code",
   "execution_count": null,
   "id": "65813bd4-fdf5-49f5-99b2-1087400db4bd",
   "metadata": {},
   "outputs": [],
   "source": []
  }
 ],
 "metadata": {
  "kernelspec": {
   "display_name": "Python 3 (ipykernel)",
   "language": "python",
   "name": "python3"
  },
  "language_info": {
   "codemirror_mode": {
    "name": "ipython",
    "version": 3
   },
   "file_extension": ".py",
   "mimetype": "text/x-python",
   "name": "python",
   "nbconvert_exporter": "python",
   "pygments_lexer": "ipython3",
   "version": "3.12.4"
  }
 },
 "nbformat": 4,
 "nbformat_minor": 5
}
