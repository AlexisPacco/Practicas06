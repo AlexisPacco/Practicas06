{
 "cells": [
  {
   "cell_type": "code",
   "execution_count": null,
   "id": "b8ac8d2e-8573-4bd7-a473-fcbb9dbcc1ba",
   "metadata": {},
   "outputs": [],
   "source": [
    "###Estructura Excepciones: las 'Excepciones' se utiliza para evitar cortes durante la ejecucion del programa\n",
    "try:\n",
    "    <codigo>\n",
    "    <codigo>\n",
    "    .........\n",
    "except:\n",
    "    <codigo>\n",
    "    <codigo>\n",
    "    ........."
   ]
  },
  {
   "cell_type": "code",
   "execution_count": 1,
   "id": "e37ba727-20d2-4e52-9e74-ec735c5a6448",
   "metadata": {},
   "outputs": [
    {
     "ename": "ZeroDivisionError",
     "evalue": "division by zero",
     "output_type": "error",
     "traceback": [
      "\u001b[0;31m---------------------------------------------------------------------------\u001b[0m",
      "\u001b[0;31mZeroDivisionError\u001b[0m                         Traceback (most recent call last)",
      "Cell \u001b[0;32mIn[1], line 2\u001b[0m\n\u001b[1;32m      1\u001b[0m \u001b[38;5;66;03m##Tripicos Errores\u001b[39;00m\n\u001b[0;32m----> 2\u001b[0m \u001b[38;5;241m1\u001b[39m\u001b[38;5;241m/\u001b[39m\u001b[38;5;241m0\u001b[39m\n\u001b[1;32m      3\u001b[0m z \u001b[38;5;241m=\u001b[39m \u001b[38;5;241m25\u001b[39m\n\u001b[1;32m      4\u001b[0m \u001b[38;5;28mprint\u001b[39m(z)\n",
      "\u001b[0;31mZeroDivisionError\u001b[0m: division by zero"
     ]
    }
   ],
   "source": [
    "##Tripicos Errores\n",
    "1/0\n",
    "z = 25\n",
    "print(z)\n"
   ]
  },
  {
   "cell_type": "code",
   "execution_count": 2,
   "id": "093b0264-db0f-4e0d-9443-bf1a360208b1",
   "metadata": {},
   "outputs": [
    {
     "name": "stdin",
     "output_type": "stream",
     "text": [
      " asdasd\n"
     ]
    },
    {
     "ename": "ValueError",
     "evalue": "invalid literal for int() with base 10: 'asdasd'",
     "output_type": "error",
     "traceback": [
      "\u001b[0;31m---------------------------------------------------------------------------\u001b[0m",
      "\u001b[0;31mValueError\u001b[0m                                Traceback (most recent call last)",
      "Cell \u001b[0;32mIn[2], line 1\u001b[0m\n\u001b[0;32m----> 1\u001b[0m n \u001b[38;5;241m=\u001b[39m \u001b[38;5;28mint\u001b[39m(\u001b[38;5;28minput\u001b[39m())\n\u001b[1;32m      2\u001b[0m z \u001b[38;5;241m=\u001b[39m \u001b[38;5;241m25\u001b[39m\n\u001b[1;32m      3\u001b[0m \u001b[38;5;28mprint\u001b[39m(z)\n",
      "\u001b[0;31mValueError\u001b[0m: invalid literal for int() with base 10: 'asdasd'"
     ]
    }
   ],
   "source": [
    "n = int(input())\n",
    "z = 25\n",
    "print(z)\n"
   ]
  },
  {
   "cell_type": "code",
   "execution_count": 3,
   "id": "d5e52af9-cce1-4f62-8edf-19cb83024055",
   "metadata": {},
   "outputs": [
    {
     "name": "stdin",
     "output_type": "stream",
     "text": [
      "Ingresar un numero:  !\"#\n"
     ]
    },
    {
     "name": "stdout",
     "output_type": "stream",
     "text": [
      "Error!! no es un numero valido\n"
     ]
    },
    {
     "name": "stdin",
     "output_type": "stream",
     "text": [
      "Ingresar un numero:  qweqwe\n"
     ]
    },
    {
     "name": "stdout",
     "output_type": "stream",
     "text": [
      "Error!! no es un numero valido\n"
     ]
    },
    {
     "name": "stdin",
     "output_type": "stream",
     "text": [
      "Ingresar un numero:  23\n"
     ]
    }
   ],
   "source": [
    "##Validacion de numeros:\n",
    "#validar ingreso de numero entero\n",
    "while True:\n",
    "    try:\n",
    "        x = int(input('Ingresar un numero: '))\n",
    "        break\n",
    "    except ValueError:\n",
    "        print('Error!! no es un numero valido')\n"
   ]
  },
  {
   "cell_type": "code",
   "execution_count": 4,
   "id": "0ebce1a3-5f51-45f5-bd2d-a0c939bc7750",
   "metadata": {},
   "outputs": [
    {
     "name": "stdin",
     "output_type": "stream",
     "text": [
      "Ingresar un numero positivo:  31213!\"#\n"
     ]
    },
    {
     "name": "stdout",
     "output_type": "stream",
     "text": [
      "Error!! no es un numero positivo valido\n"
     ]
    },
    {
     "name": "stdin",
     "output_type": "stream",
     "text": [
      "Ingresar un numero positivo:  qwqwe\n"
     ]
    },
    {
     "name": "stdout",
     "output_type": "stream",
     "text": [
      "Error!! no es un numero positivo valido\n"
     ]
    },
    {
     "name": "stdin",
     "output_type": "stream",
     "text": [
      "Ingresar un numero positivo:  -13216\n"
     ]
    },
    {
     "name": "stdout",
     "output_type": "stream",
     "text": [
      "\tPor favor ingrese numero positivo\n"
     ]
    },
    {
     "name": "stdin",
     "output_type": "stream",
     "text": [
      "Ingresar un numero positivo:  123\n"
     ]
    }
   ],
   "source": [
    "##Validacion de numeros y otra condicion:\n",
    "#validar numeros enteros positivos\n",
    "while True:\n",
    "    try:\n",
    "        x = int(input('Ingresar un numero positivo: '))\n",
    "    except ValueError:\n",
    "        print('Error!! no es un numero positivo valido')\n",
    "        continue\n",
    "    if x < 0:\n",
    "        print('\\tPor favor ingrese numero positivo')\n",
    "        continue\n",
    "    break\n"
   ]
  },
  {
   "cell_type": "code",
   "execution_count": null,
   "id": "25f5e2a7-6aa4-4b77-9829-8fb8efc57b96",
   "metadata": {},
   "outputs": [],
   "source": [
    "###Estructura Funciones\n",
    "def nombre_de_funcion(<argumento,a>):\n",
    "    <codigo>\n",
    "    <codigo>\n",
    "    ..............."
   ]
  },
  {
   "cell_type": "code",
   "execution_count": 5,
   "id": "46ce65f5-536f-47ec-9658-3f4b09786162",
   "metadata": {},
   "outputs": [
    {
     "name": "stdout",
     "output_type": "stream",
     "text": [
      "Inicio de Programa\n",
      "Inicio de Programa\n",
      "\n",
      "\n",
      "\n",
      " Fin del programa\n"
     ]
    }
   ],
   "source": [
    "##Funcion Principal 'main'\n",
    "#Inicio mis programas con varias funciones\n",
    "def uno():\n",
    "    print('Inicio de Programa')\n",
    "\n",
    "def dos():\n",
    "    pass\n",
    "\n",
    "def fin():\n",
    "    print('\\n\\n\\n Fin del programa')\n",
    "\n",
    "#Programa 'main' principal\n",
    "if __name__ == '__main__':\n",
    "    uno()\n",
    "    dos()\n",
    "    uno()\n",
    "    dos()\n",
    "    fin()\n",
    "    "
   ]
  },
  {
   "cell_type": "code",
   "execution_count": 7,
   "id": "5a0e99f4-80f4-4a49-b87d-dcc8fb85c62b",
   "metadata": {},
   "outputs": [
    {
     "name": "stdout",
     "output_type": "stream",
     "text": [
      "*********    BONO FAMILIAR UNIVERSAL    **********\n",
      "\n",
      "\n",
      "\n"
     ]
    },
    {
     "name": "stdin",
     "output_type": "stream",
     "text": [
      "Ingresar DNI:  !\"#$!\"\n"
     ]
    },
    {
     "name": "stdout",
     "output_type": "stream",
     "text": [
      "\tError!!! No es un DNI Valido.. Intente de nuevo\n"
     ]
    },
    {
     "name": "stdin",
     "output_type": "stream",
     "text": [
      "Ingresar DNI:  asdasdqw\n"
     ]
    },
    {
     "name": "stdout",
     "output_type": "stream",
     "text": [
      "\tError!!! No es un DNI Valido.. Intente de nuevo\n"
     ]
    },
    {
     "name": "stdin",
     "output_type": "stream",
     "text": [
      "Ingresar DNI:  2135654645654\n"
     ]
    },
    {
     "name": "stdout",
     "output_type": "stream",
     "text": [
      "\tError: Longitud de DNI no Valido... Intente de nuevo\n"
     ]
    },
    {
     "name": "stdin",
     "output_type": "stream",
     "text": [
      "Ingresar DNI:  12345678\n"
     ]
    },
    {
     "name": "stdout",
     "output_type": "stream",
     "text": [
      "\n",
      "\tDNI VALIDO\n",
      "\n",
      "\n",
      " El DNI Ingresado es: ==> 12345678\n"
     ]
    }
   ],
   "source": [
    "##Hacer un programa que solicite ingreso de DNI correctamente:\n",
    "#Mi primera funcion validar dni\n",
    "def validar_dni():\n",
    "    while True:\n",
    "        try:\n",
    "            dni = int(input('Ingresar DNI: '))\n",
    "            if len(str(dni)) == 8:\n",
    "                print('\\n\\tDNI VALIDO')\n",
    "                break\n",
    "            else:\n",
    "                print('\\tError: Longitud de DNI no Valido... Intente de nuevo')\n",
    "                continue\n",
    "\n",
    "        except ValueError:\n",
    "            print('\\tError!!! No es un DNI Valido.. Intente de nuevo')\n",
    "\n",
    "    return dni\n",
    "\n",
    "#Programa 'main' principal\n",
    "if __name__ == '__main__':\n",
    "    titulo = ('    BONO FAMILIAR UNIVERSAL    ')\n",
    "    print(titulo.center(50,'*'))\n",
    "    print('\\n\\n')\n",
    "\n",
    "    val_dni = validar_dni()\n",
    "\n",
    "    print('\\n\\n El DNI Ingresado es: ==>',val_dni)"
   ]
  },
  {
   "cell_type": "code",
   "execution_count": null,
   "id": "99d0774e-5383-4245-87b6-0880d8a603dd",
   "metadata": {},
   "outputs": [],
   "source": []
  }
 ],
 "metadata": {
  "kernelspec": {
   "display_name": "Python 3 (ipykernel)",
   "language": "python",
   "name": "python3"
  },
  "language_info": {
   "codemirror_mode": {
    "name": "ipython",
    "version": 3
   },
   "file_extension": ".py",
   "mimetype": "text/x-python",
   "name": "python",
   "nbconvert_exporter": "python",
   "pygments_lexer": "ipython3",
   "version": "3.12.4"
  }
 },
 "nbformat": 4,
 "nbformat_minor": 5
}
