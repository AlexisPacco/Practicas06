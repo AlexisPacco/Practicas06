{
 "cells": [
  {
   "cell_type": "code",
   "execution_count": 1,
   "id": "d95ebad1-f6f7-4347-88d5-79b363c184b7",
   "metadata": {},
   "outputs": [
    {
     "name": "stdout",
     "output_type": "stream",
     "text": [
      "****************   Menu General   ****************\n",
      "\n",
      "\n",
      "\n",
      "Selecciona una Opcion\n",
      "\t1 - Primera Opcion\n",
      "\t2 - Segunda Opcion\n",
      "\t3 - Tercera Opcion\n",
      "\t9 - Salir\n",
      "\u001b[H\u001b[2J"
     ]
    },
    {
     "name": "stdin",
     "output_type": "stream",
     "text": [
      "inserta un numero valor >>  \"#$\"#$\n"
     ]
    },
    {
     "name": "stdout",
     "output_type": "stream",
     "text": [
      "\n"
     ]
    },
    {
     "name": "stdin",
     "output_type": "stream",
     "text": [
      "No has pulsado ninguna opcion correcta...\n",
      "pulsa una tecla para continuar \n"
     ]
    },
    {
     "name": "stdout",
     "output_type": "stream",
     "text": [
      "\u001b[H\u001b[2J****************   Menu General   ****************\n",
      "\n",
      "\n",
      "\n",
      "Selecciona una Opcion\n",
      "\t1 - Primera Opcion\n",
      "\t2 - Segunda Opcion\n",
      "\t3 - Tercera Opcion\n",
      "\t9 - Salir\n"
     ]
    },
    {
     "name": "stdin",
     "output_type": "stream",
     "text": [
      "inserta un numero valor >>  qwrqweqwr\n"
     ]
    },
    {
     "name": "stdout",
     "output_type": "stream",
     "text": [
      "\n"
     ]
    },
    {
     "name": "stdin",
     "output_type": "stream",
     "text": [
      "No has pulsado ninguna opcion correcta...\n",
      "pulsa una tecla para continuar \n"
     ]
    },
    {
     "name": "stdout",
     "output_type": "stream",
     "text": [
      "****************   Menu General   ****************\n",
      "\n",
      "\n",
      "\n",
      "Selecciona una Opcion\n",
      "\t1 - Primera Opcion\n",
      "\t2 - Segunda Opcion\n",
      "\t3 - Tercera Opcion\n",
      "\t9 - Salir\n",
      "\u001b[H\u001b[2J"
     ]
    },
    {
     "name": "stdin",
     "output_type": "stream",
     "text": [
      "inserta un numero valor >>  1\n"
     ]
    },
    {
     "name": "stdout",
     "output_type": "stream",
     "text": [
      "\n"
     ]
    },
    {
     "name": "stdin",
     "output_type": "stream",
     "text": [
      "Has pulsado la opcion 1...\n",
      "pulsa una tecla para continuar \n"
     ]
    },
    {
     "name": "stdout",
     "output_type": "stream",
     "text": [
      "\u001b[H\u001b[2J****************   Menu General   ****************\n",
      "\n",
      "\n",
      "\n",
      "Selecciona una Opcion\n",
      "\t1 - Primera Opcion\n",
      "\t2 - Segunda Opcion\n",
      "\t3 - Tercera Opcion\n",
      "\t9 - Salir\n"
     ]
    },
    {
     "name": "stdin",
     "output_type": "stream",
     "text": [
      "inserta un numero valor >>  \n"
     ]
    },
    {
     "name": "stdout",
     "output_type": "stream",
     "text": [
      "\n"
     ]
    },
    {
     "name": "stdin",
     "output_type": "stream",
     "text": [
      "No has pulsado ninguna opcion correcta...\n",
      "pulsa una tecla para continuar 3\n"
     ]
    },
    {
     "name": "stdout",
     "output_type": "stream",
     "text": [
      "\u001b[H\u001b[2J****************   Menu General   ****************\n",
      "\n",
      "\n",
      "\n",
      "Selecciona una Opcion\n",
      "\t1 - Primera Opcion\n",
      "\t2 - Segunda Opcion\n",
      "\t3 - Tercera Opcion\n",
      "\t9 - Salir\n"
     ]
    },
    {
     "name": "stdin",
     "output_type": "stream",
     "text": [
      "inserta un numero valor >>  \n"
     ]
    },
    {
     "name": "stdout",
     "output_type": "stream",
     "text": [
      "\n"
     ]
    },
    {
     "name": "stdin",
     "output_type": "stream",
     "text": [
      "No has pulsado ninguna opcion correcta...\n",
      "pulsa una tecla para continuar \n"
     ]
    },
    {
     "name": "stdout",
     "output_type": "stream",
     "text": [
      "\u001b[H\u001b[2J****************   Menu General   ****************\n",
      "\n",
      "\n",
      "\n",
      "Selecciona una Opcion\n",
      "\t1 - Primera Opcion\n",
      "\t2 - Segunda Opcion\n",
      "\t3 - Tercera Opcion\n",
      "\t9 - Salir\n"
     ]
    },
    {
     "name": "stdin",
     "output_type": "stream",
     "text": [
      "inserta un numero valor >>  9\n"
     ]
    },
    {
     "name": "stdout",
     "output_type": "stream",
     "text": [
      "\tFINALIZO EL PROGRAMA!!!\n"
     ]
    }
   ],
   "source": [
    "##Hacer un programa que imprima un menu de opciones y que valide correctamente los ingresos:\n",
    "\n",
    "#libreria del sistema operativo\n",
    "import os\n",
    "\n",
    "def menu():\n",
    "    \"\"\"\n",
    "    Funcion que limpia la pantalla y muestra nuevamente el menu\n",
    "    \"\"\"\n",
    "    #borra pantalla en un terminal\n",
    "    os.system('clear')\n",
    "    titulo = (\"   Menu General   \")\n",
    "    print(titulo.center(50,'*'))\n",
    "    print('\\n\\n')\n",
    "    print(\"Selecciona una Opcion\")\n",
    "    print(\"\\t1 - Primera Opcion\")\n",
    "    print(\"\\t2 - Segunda Opcion\")\n",
    "    print(\"\\t3 - Tercera Opcion\")\n",
    "    print(\"\\t9 - Salir\")\n",
    "\n",
    "\n",
    "def validar():\n",
    "    while True:\n",
    "        #mostramos el menu\n",
    "        menu()\n",
    "\n",
    "        #solicitamos una opcion al usuario\n",
    "        opcionMenu = input(\"inserta un numero valor >> \")\n",
    "\n",
    "        if opcionMenu == \"1\":\n",
    "            print(\"\")\n",
    "            input(\"Has pulsado la opcion 1...\\npulsa una tecla para continuar\")\n",
    "        elif opcionMenu == \"2\":\n",
    "            print(\"\")\n",
    "            input(\"Has pulsado la opcion 2...\\npulsa una tecla para continuar\")\n",
    "        elif opcionMenu == \"3\":\n",
    "            print(\"\")\n",
    "            input(\"Has pulsado la opcion 3...\\npulsa una tecla para continuar\")\n",
    "        elif opcionMenu == \"9\":\n",
    "            break\n",
    "        else:\n",
    "            print(\"\")\n",
    "            input(\"No has pulsado ninguna opcion correcta...\\npulsa una tecla para continuar\")\n",
    "    return opcionMenu\n",
    "\n",
    "if __name__ == '__main__':\n",
    "    validar()\n",
    "    print('\\tFINALIZO EL PROGRAMA!!!')\n",
    "\n"
   ]
  },
  {
   "cell_type": "code",
   "execution_count": null,
   "id": "8e48ef75-391c-471f-bc3f-b8c1cf5047f2",
   "metadata": {},
   "outputs": [],
   "source": []
  }
 ],
 "metadata": {
  "kernelspec": {
   "display_name": "Python 3 (ipykernel)",
   "language": "python",
   "name": "python3"
  },
  "language_info": {
   "codemirror_mode": {
    "name": "ipython",
    "version": 3
   },
   "file_extension": ".py",
   "mimetype": "text/x-python",
   "name": "python",
   "nbconvert_exporter": "python",
   "pygments_lexer": "ipython3",
   "version": "3.12.4"
  }
 },
 "nbformat": 4,
 "nbformat_minor": 5
}
